{
 "cells": [
  {
   "cell_type": "code",
   "execution_count": 8,
   "id": "f6caae69",
   "metadata": {},
   "outputs": [],
   "source": [
    "import pickle\n",
    "import pandas as pd\n",
    "import requests\n",
    "import time\n",
    "import os"
   ]
  },
  {
   "cell_type": "code",
   "execution_count": 9,
   "id": "60a66045",
   "metadata": {},
   "outputs": [],
   "source": [
    "with open(\"subset_data.pickle\", \"rb\") as file:\n",
    "    subset_data = pickle.load(file)"
   ]
  },
  {
   "cell_type": "code",
   "execution_count": 10,
   "id": "9c369b46",
   "metadata": {},
   "outputs": [],
   "source": [
    "YOUR_API_KEY = \"\""
   ]
  },
  {
   "cell_type": "code",
   "execution_count": 11,
   "id": "58eff772",
   "metadata": {},
   "outputs": [],
   "source": [
    "def get_cosponsors(congress, bill_type, bill_number, offset):\n",
    "    url = f\"https://api.congress.gov/v3/bill/{congress}/{bill_type}/{bill_number}/cosponsors?api_key={YOUR_API_KEY}&format=json&offset={offset}&limit=250\"\n",
    "    response = requests.get(url)\n",
    "    return response.json()"
   ]
  },
  {
   "cell_type": "code",
   "execution_count": 12,
   "id": "d92ec3ea",
   "metadata": {},
   "outputs": [],
   "source": [
    "def parse_cosponsor_data(cosponsor, bill_number, congress):\n",
    "    return {\n",
    "        \"billNumber\": bill_number,\n",
    "        \"congress\": congress,\n",
    "        \"sponsorshipDate\": cosponsor.get(\"sponsorshipDate\"),\n",
    "        \"bioguideId\": cosponsor.get(\"bioguideId\"),\n",
    "        \"isOriginalCosponsor\": cosponsor.get(\"isOriginalCosponsor\"),\n",
    "    }"
   ]
  },
  {
   "cell_type": "code",
   "execution_count": 13,
   "id": "7fc7d05f",
   "metadata": {},
   "outputs": [],
   "source": [
    "def save_to_csv(cosponsor_data, batch_number):\n",
    "    cosponsor_df = pd.DataFrame(cosponsor_data)\n",
    "    cosponsor_df.to_csv(f\"cosponsor_data_batch_{batch_number}.csv\", index=False)\n",
    "    print(f\"Saved cosponsor_data_batch_{batch_number}.csv\")"
   ]
  },
  {
   "cell_type": "code",
   "execution_count": 14,
   "id": "5de3176b",
   "metadata": {},
   "outputs": [
    {
     "name": "stdout",
     "output_type": "stream",
     "text": [
      "Progress: 1/29338 - Bill Number: 954.0\n",
      "Progress: 2/29338 - Bill Number: 882.0\n",
      "Progress: 3/29338 - Bill Number: 759.0\n",
      "Progress: 4/29338 - Bill Number: 4562.0\n",
      "Progress: 5/29338 - Bill Number: 4737.0\n",
      "Progress: 6/29338 - Bill Number: 3369.0\n",
      "Progress: 7/29338 - Bill Number: 3633.0\n",
      "Progress: 8/29338 - Bill Number: 3210.0\n",
      "Progress: 9/29338 - Bill Number: 3004.0\n",
      "Progress: 10/29338 - Bill Number: 5020.0\n",
      "Progress: 11/29338 - Bill Number: 4841.0\n",
      "Progress: 12/29338 - Bill Number: 48.0\n",
      "Progress: 13/29338 - Bill Number: 4561.0\n",
      "Progress: 14/29338 - Bill Number: 4564.0\n",
      "Progress: 15/29338 - Bill Number: 3678.0\n",
      "Progress: 16/29338 - Bill Number: 2308.0\n",
      "Progress: 17/29338 - Bill Number: 4011.0\n",
      "Progress: 18/29338 - Bill Number: 3442.0\n",
      "Progress: 19/29338 - Bill Number: 3125.0\n",
      "Progress: 20/29338 - Bill Number: 4722.0\n",
      "Progress: 21/29338 - Bill Number: 2309.0\n",
      "Progress: 22/29338 - Bill Number: 2323.0\n",
      "Progress: 23/29338 - Bill Number: 4563.0\n",
      "Progress: 24/29338 - Bill Number: 2920.0\n",
      "Progress: 25/29338 - Bill Number: 2155.0\n",
      "Progress: 26/29338 - Bill Number: 3339.0\n",
      "Progress: 27/29338 - Bill Number: 2315.0\n",
      "Progress: 28/29338 - Bill Number: 3420.0\n",
      "Progress: 29/29338 - Bill Number: 1850.0\n",
      "Progress: 30/29338 - Bill Number: 518.0\n",
      "Progress: 31/29338 - Bill Number: 556.0\n",
      "Progress: 32/29338 - Bill Number: 3362.0\n",
      "Progress: 33/29338 - Bill Number: 3448.0\n",
      "Progress: 34/29338 - Bill Number: 3842.0\n",
      "Progress: 35/29338 - Bill Number: 451.0\n",
      "Progress: 36/29338 - Bill Number: 3689.0\n",
      "Progress: 37/29338 - Bill Number: 3700.0\n",
      "Progress: 38/29338 - Bill Number: 3696.0\n",
      "Progress: 39/29338 - Bill Number: 3704.0\n",
      "Progress: 40/29338 - Bill Number: 3688.0\n",
      "Progress: 41/29338 - Bill Number: 4728.0\n",
      "Progress: 42/29338 - Bill Number: 3432.0\n",
      "Progress: 43/29338 - Bill Number: 1032.0\n",
      "Progress: 44/29338 - Bill Number: 484.0\n",
      "Progress: 45/29338 - Bill Number: 1675.0\n",
      "Progress: 46/29338 - Bill Number: 3033.0\n",
      "Progress: 47/29338 - Bill Number: 437.0\n",
      "Progress: 48/29338 - Bill Number: 1823.0\n",
      "Progress: 49/29338 - Bill Number: 1031.0\n",
      "Progress: 50/29338 - Bill Number: 2859.0\n",
      "Saved cosponsor_data_batch_1.csv\n",
      "Progress: 51/29338 - Bill Number: 12.0\n",
      "Progress: 52/29338 - Bill Number: 2729.0\n",
      "Progress: 53/29338 - Bill Number: 245.0\n",
      "Progress: 54/29338 - Bill Number: 1042.0\n",
      "Progress: 55/29338 - Bill Number: 1803.0\n",
      "Progress: 56/29338 - Bill Number: 199.0\n",
      "Progress: 57/29338 - Bill Number: 278.0\n",
      "Progress: 58/29338 - Bill Number: 140.0\n",
      "Progress: 59/29338 - Bill Number: 23.0\n",
      "Progress: 60/29338 - Bill Number: 45.0\n",
      "Progress: 61/29338 - Bill Number: 332.0\n",
      "Progress: 62/29338 - Bill Number: 333.0\n",
      "Progress: 63/29338 - Bill Number: 348.0\n",
      "Progress: 64/29338 - Bill Number: 2556.0\n",
      "Progress: 65/29338 - Bill Number: 1706.0\n",
      "Progress: 66/29338 - Bill Number: 1503.0\n"
     ]
    },
    {
     "ename": "KeyboardInterrupt",
     "evalue": "",
     "output_type": "error",
     "traceback": [
      "\u001b[1;31m---------------------------------------------------------------------------\u001b[0m",
      "\u001b[1;31mKeyboardInterrupt\u001b[0m                         Traceback (most recent call last)",
      "\u001b[1;32m~\\AppData\\Local\\Temp/ipykernel_30132/597500341.py\u001b[0m in \u001b[0;36m<module>\u001b[1;34m\u001b[0m\n\u001b[0;32m     23\u001b[0m     \u001b[0mbills_processed\u001b[0m \u001b[1;33m+=\u001b[0m \u001b[1;36m1\u001b[0m\u001b[1;33m\u001b[0m\u001b[1;33m\u001b[0m\u001b[0m\n\u001b[0;32m     24\u001b[0m     \u001b[0mprint\u001b[0m\u001b[1;33m(\u001b[0m\u001b[1;34mf\"Progress: {bills_processed}/{len(subset_data)} - Bill Number: {bill_number}\"\u001b[0m\u001b[1;33m)\u001b[0m\u001b[1;33m\u001b[0m\u001b[1;33m\u001b[0m\u001b[0m\n\u001b[1;32m---> 25\u001b[1;33m     \u001b[0mtime\u001b[0m\u001b[1;33m.\u001b[0m\u001b[0msleep\u001b[0m\u001b[1;33m(\u001b[0m\u001b[1;36m3\u001b[0m\u001b[1;33m)\u001b[0m\u001b[1;33m\u001b[0m\u001b[1;33m\u001b[0m\u001b[0m\n\u001b[0m\u001b[0;32m     26\u001b[0m \u001b[1;33m\u001b[0m\u001b[0m\n\u001b[0;32m     27\u001b[0m     \u001b[1;32mif\u001b[0m \u001b[0mbills_processed\u001b[0m \u001b[1;33m%\u001b[0m \u001b[1;36m50\u001b[0m \u001b[1;33m==\u001b[0m \u001b[1;36m0\u001b[0m\u001b[1;33m:\u001b[0m\u001b[1;33m\u001b[0m\u001b[1;33m\u001b[0m\u001b[0m\n",
      "\u001b[1;31mKeyboardInterrupt\u001b[0m: "
     ]
    }
   ],
   "source": [
    "cosponsor_data = []\n",
    "batch_number = 1\n",
    "bills_processed = 0\n",
    "\n",
    "api_calls = 0\n",
    "start_time = time.time()\n",
    "\n",
    "for index, row in subset_data.iterrows():\n",
    "    congress = row['congress']\n",
    "    bill_number = row['number']\n",
    "    bill_type = row['type']\n",
    "    offset = 0\n",
    "\n",
    "    while True:\n",
    "        if api_calls >= 1000:\n",
    "            elapsed_time = time.time() - start_time\n",
    "            if elapsed_time < 3600:  # 3600 seconds in an hour\n",
    "                time_to_wait = 3600 - elapsed_time\n",
    "                time.sleep(time_to_wait)\n",
    "\n",
    "            # Reset API call count and start time after waiting\n",
    "            api_calls = 0\n",
    "            start_time = time.time()\n",
    "\n",
    "        cosponsors_data = get_cosponsors(congress, bill_number, bill_type, offset)\n",
    "        api_calls += 1\n",
    "        cosponsors = cosponsors_data.get(\"cosponsors\", [])\n",
    "\n",
    "        if not cosponsors:\n",
    "            break\n",
    "\n",
    "        for cosponsor in cosponsors:\n",
    "            cosponsor_data.append(parse_cosponsor_data(cosponsor, bill_number, congress))\n",
    "\n",
    "        offset += 250\n",
    "\n",
    "    bills_processed += 1\n",
    "    print(f\"Progress: {bills_processed}/{len(subset_data)} - Bill Number: {bill_number}\")\n",
    "\n",
    "    if bills_processed % 50 == 0:\n",
    "        save_to_csv(cosponsor_data, batch_number)\n",
    "        cosponsor_data = []\n",
    "        batch_number += 1\n",
    "\n",
    "# Save remaining data after the loop\n",
    "if cosponsor_data:\n",
    "    save_to_csv(cosponsor_data, batch_number)"
   ]
  },
  {
   "cell_type": "code",
   "execution_count": null,
   "id": "476ddc53",
   "metadata": {},
   "outputs": [],
   "source": [
    "# Save remaining data after the loop\n",
    "if cosponsor_data:\n",
    "    save_to_csv(cosponsor_data, batch_number)"
   ]
  }
 ],
 "metadata": {
  "kernelspec": {
   "display_name": "Python 3 (ipykernel)",
   "language": "python",
   "name": "python3"
  },
  "language_info": {
   "codemirror_mode": {
    "name": "ipython",
    "version": 3
   },
   "file_extension": ".py",
   "mimetype": "text/x-python",
   "name": "python",
   "nbconvert_exporter": "python",
   "pygments_lexer": "ipython3",
   "version": "3.9.7"
  }
 },
 "nbformat": 4,
 "nbformat_minor": 5
}
