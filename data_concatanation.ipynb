{
 "cells": [
  {
   "cell_type": "code",
   "execution_count": 1,
   "id": "43ab9e05",
   "metadata": {},
   "outputs": [],
   "source": [
    "import os\n",
    "import pandas as pd\n",
    "import pickle"
   ]
  },
  {
   "cell_type": "code",
   "execution_count": 2,
   "id": "0aa6613d",
   "metadata": {},
   "outputs": [],
   "source": [
    "def read_and_concatenate_csvs(file_pattern):\n",
    "    files = [f for f in os.listdir() if f.startswith(file_pattern)]\n",
    "    dataframes = [pd.read_csv(file) for file in files]\n",
    "    concatenated_df = pd.concat(dataframes, ignore_index=True)\n",
    "    return concatenated_df"
   ]
  },
  {
   "cell_type": "code",
   "execution_count": 3,
   "id": "cfda59c1",
   "metadata": {},
   "outputs": [],
   "source": [
    "def main():\n",
    "    file_pattern = 'legislation_data_batch_'\n",
    "    df = read_and_concatenate_csvs(file_pattern)\n",
    "    \n",
    "    # Convert 'introducedDate' to datetime\n",
    "    df['introduced_date'] = pd.to_datetime(df['introduced_date'])\n",
    "    \n",
    "    # Save full DataFrame to pickle and CSV\n",
    "    df.to_pickle('full_data.pickle')\n",
    "    df.to_csv('full_data.csv', index=False)\n",
    "    \n",
    "    # Filter rows with introduced date later than 2000\n",
    "    df = df[df['introduced_date'].dt.year >= 2013]\n",
    "    \n",
    "    # Select only the required columns\n",
    "    df_subset = df[['congress', 'number', 'introduced_date','type']]\n",
    "    \n",
    "    # Remove rows with null values in the 'number' column\n",
    "    df_subset = df_subset.dropna(subset=['number'])\n",
    "    \n",
    "    # Save subset DataFrame to pickle and CSV\n",
    "    df_subset.to_pickle('subset_data.pickle')\n",
    "    df_subset.to_csv('subset_data.csv', index=False)"
   ]
  },
  {
   "cell_type": "code",
   "execution_count": 4,
   "id": "b77de8a1",
   "metadata": {},
   "outputs": [],
   "source": [
    "if __name__ == '__main__':\n",
    "    main()"
   ]
  }
 ],
 "metadata": {
  "kernelspec": {
   "display_name": "Python 3 (ipykernel)",
   "language": "python",
   "name": "python3"
  },
  "language_info": {
   "codemirror_mode": {
    "name": "ipython",
    "version": 3
   },
   "file_extension": ".py",
   "mimetype": "text/x-python",
   "name": "python",
   "nbconvert_exporter": "python",
   "pygments_lexer": "ipython3",
   "version": "3.9.7"
  }
 },
 "nbformat": 4,
 "nbformat_minor": 5
}
