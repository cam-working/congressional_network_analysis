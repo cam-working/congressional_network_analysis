{
 "cells": [
  {
   "cell_type": "code",
   "execution_count": 16,
   "id": "04ba8814",
   "metadata": {},
   "outputs": [],
   "source": [
    "import requests\n",
    "import pandas as pd\n",
    "import json\n",
    "import time\n",
    "import pickle"
   ]
  },
  {
   "cell_type": "code",
   "execution_count": 7,
   "id": "f26c4fa9",
   "metadata": {},
   "outputs": [],
   "source": [
    "YOUR_API_KEY = ''"
   ]
  },
  {
   "cell_type": "code",
   "execution_count": 8,
   "id": "b4aabeb7",
   "metadata": {},
   "outputs": [],
   "source": [
    "def get_data(offset):\n",
    "    url = f\"https://api.congress.gov/v3/member?api_key={YOUR_API_KEY}&format=json&offset={offset}&limit=250\"\n",
    "    response = requests.get(url)\n",
    "    time.sleep(7)\n",
    "    print(offset)\n",
    "    return response.json()"
   ]
  },
  {
   "cell_type": "code",
   "execution_count": 9,
   "id": "017db7e6",
   "metadata": {},
   "outputs": [],
   "source": [
    "def parse_member_data(member):\n",
    "    bioguide_id = member[\"bioguideId\"]\n",
    "    name = member[\"name\"]\n",
    "    party = member[\"party\"]\n",
    "    state = member[\"state\"]\n",
    "    served = member[\"served\"]\n",
    "    house_served = served.get(\"House\", [])\n",
    "    senate_served = served.get(\"Senate\", [])\n",
    "\n",
    "    house_data = [{\"bioguideId\": bioguide_id, \"name\": name, \"party\": party, \"state\": state, \"chamber\": \"House\", \"start\": term[\"start\"], \"end\": term.get(\"end\", None)} for term in house_served]\n",
    "    senate_data = [{\"bioguideId\": bioguide_id, \"name\": name, \"party\": party, \"state\": state, \"chamber\": \"Senate\", \"start\": term[\"start\"], \"end\": term.get(\"end\", None)} for term in senate_served]\n",
    "\n",
    "    return house_data + senate_data"
   ]
  },
  {
   "cell_type": "code",
   "execution_count": 12,
   "id": "c5a4d434",
   "metadata": {},
   "outputs": [],
   "source": [
    "def main():\n",
    "    offset = 0\n",
    "    all_members_data = []\n",
    "\n",
    "    while True:\n",
    "        data = get_data(offset)\n",
    "        members = data[\"members\"]\n",
    "\n",
    "        if not members:\n",
    "            break\n",
    "\n",
    "        for member_data in members:\n",
    "            all_members_data.extend(parse_member_data(member_data[\"member\"]))\n",
    "\n",
    "        offset += 250\n",
    "\n",
    "    df = pd.DataFrame(all_members_data)\n",
    "    return(df)"
   ]
  },
  {
   "cell_type": "code",
   "execution_count": 13,
   "id": "2294a070",
   "metadata": {},
   "outputs": [
    {
     "name": "stdout",
     "output_type": "stream",
     "text": [
      "0\n",
      "250\n",
      "500\n",
      "750\n",
      "1000\n",
      "1250\n",
      "1500\n",
      "1750\n",
      "2000\n",
      "2250\n",
      "2500\n",
      "2750\n"
     ]
    }
   ],
   "source": [
    "df = main()"
   ]
  },
  {
   "cell_type": "code",
   "execution_count": 17,
   "id": "a35ff09a",
   "metadata": {},
   "outputs": [],
   "source": [
    "with open(\"congress_members.pkl\", \"wb\") as file:\n",
    "    pickle.dump(df, file)"
   ]
  },
  {
   "cell_type": "code",
   "execution_count": 18,
   "id": "349a3d1a",
   "metadata": {
    "scrolled": true
   },
   "outputs": [
    {
     "name": "stdout",
     "output_type": "stream",
     "text": [
      "     bioguideId                 name       party         state chamber  start  \\\n",
      "0       S000394         Shuster, Bud  Republican  Pennsylvania   House   1973   \n",
      "1       W000790  Warnock, Raphael G.  Democratic       Georgia  Senate   2021   \n",
      "2       B001319    Britt, Katie Boyd  Republican       Alabama  Senate   2023   \n",
      "3       H001086   Harshbarger, Diana  Republican     Tennessee   House   2021   \n",
      "4       L000593          Levin, Mike  Democratic    California   House   2019   \n",
      "...         ...                  ...         ...           ...     ...    ...   \n",
      "2776    F000215     Florio, James J.  Democratic    New Jersey   House   1975   \n",
      "2777    F000209     Flood, Daniel J.  Democratic  Pennsylvania   House   1945   \n",
      "2778    F000209     Flood, Daniel J.  Democratic  Pennsylvania   House   1949   \n",
      "2779    F000209     Flood, Daniel J.  Democratic  Pennsylvania   House   1955   \n",
      "2780    F000208    Flippo, Ronnie G.  Democratic       Alabama   House   1977   \n",
      "\n",
      "         end  \n",
      "0     2001.0  \n",
      "1        NaN  \n",
      "2        NaN  \n",
      "3        NaN  \n",
      "4        NaN  \n",
      "...      ...  \n",
      "2776  1991.0  \n",
      "2777  1947.0  \n",
      "2778  1953.0  \n",
      "2779  1981.0  \n",
      "2780  1991.0  \n",
      "\n",
      "[2781 rows x 7 columns]\n"
     ]
    }
   ],
   "source": [
    "with open(\"congress_members.pkl\", \"rb\") as file:\n",
    "    loaded_df = pickle.load(file)\n",
    "\n",
    "print(loaded_df)"
   ]
  }
 ],
 "metadata": {
  "kernelspec": {
   "display_name": "Python 3 (ipykernel)",
   "language": "python",
   "name": "python3"
  },
  "language_info": {
   "codemirror_mode": {
    "name": "ipython",
    "version": 3
   },
   "file_extension": ".py",
   "mimetype": "text/x-python",
   "name": "python",
   "nbconvert_exporter": "python",
   "pygments_lexer": "ipython3",
   "version": "3.9.7"
  }
 },
 "nbformat": 4,
 "nbformat_minor": 5
}
